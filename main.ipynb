{
 "cells": [
  {
   "cell_type": "code",
   "execution_count": null,
   "metadata": {},
   "outputs": [],
   "source": [
    "import requests\n",
    "import threading\n",
    "import tkinter as tk"
   ]
  },
  {
   "cell_type": "code",
   "execution_count": null,
   "metadata": {},
   "outputs": [],
   "source": [
    "val = None\n",
    "update_thread = None\n",
    "\n",
    "def update_value(value):\n",
    "    global val\n",
    "    val = value  \n",
    "\n",
    "def update_server_value():\n",
    "    global update_thread\n",
    "    if update_thread and update_thread.is_alive():\n",
    "        return\n",
    "    update_thread = threading.Thread(target = make_req, args = (val,), daemon = True)\n",
    "    update_thread.start()\n",
    "\n",
    "def make_req(v0):\n",
    "    try:\n",
    "        requests.get(\"http://blr1.blynk.cloud/external/api/update?token=cpDhWvdpRiU5SEpVkiRYiARfWHx3kU6l&v0=\" + v0)\n",
    "        print(f\"Updated Pan Angle to {v0}\") \n",
    "    except requests.RequestException as e:\n",
    "        print(f\"Error making request: {e}\")"
   ]
  },
  {
   "cell_type": "code",
   "execution_count": null,
   "metadata": {},
   "outputs": [],
   "source": [
    "root = tk.Tk()\n",
    "root.title(\"Pan Angle Adjustment\")\n",
    "root.geometry(\"300x150\")\n",
    "\n",
    "label = tk.Label(root, text = \"Enter Pan Angle:\")\n",
    "label.pack()\n",
    "\n",
    "slider = tk.Scale(root, from_= 0, to = 180, orient=tk.HORIZONTAL, command = update_value, length = 250)\n",
    "slider.pack()\n",
    "\n",
    "slider.bind(\"<ButtonRelease-1>\", lambda event: update_server_value()) \n",
    "\n",
    "root.mainloop()\n",
    "print('Exited.', end = ' ')\n",
    "make_req('0')"
   ]
  }
 ],
 "metadata": {
  "kernelspec": {
   "display_name": "Python 3",
   "language": "python",
   "name": "python3"
  },
  "language_info": {
   "codemirror_mode": {
    "name": "ipython",
    "version": 3
   },
   "file_extension": ".py",
   "mimetype": "text/x-python",
   "name": "python",
   "nbconvert_exporter": "python",
   "pygments_lexer": "ipython3",
   "version": "3.11.3"
  }
 },
 "nbformat": 4,
 "nbformat_minor": 2
}
